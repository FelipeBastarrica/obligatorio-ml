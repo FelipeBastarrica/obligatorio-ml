{
 "cells": [
  {
   "cell_type": "markdown",
   "id": "07427f59-edc6-45a5-9db1-35a5fa2e2776",
   "metadata": {},
   "source": [
    "# Obligatorio - Machine Learning\n",
    "\n",
    "### Universidad ORT\n",
    "\n",
    "#### Alumnos : Felipe Bastarrica (158687), Aldo Gioda (XXXXXX), Esteban Maestro (XXXXXX)"
   ]
  },
  {
   "cell_type": "markdown",
   "id": "2a5d7f87-0f20-419f-9fdf-aac36fba89a8",
   "metadata": {
    "nteract": {
     "transient": {
      "deleting": false
     }
    }
   },
   "source": [
    "## Library Installation"
   ]
  },
  {
   "cell_type": "code",
   "execution_count": 25,
   "id": "383e5041-3a61-4554-9834-b2814ae6a467",
   "metadata": {
    "collapsed": false,
    "gather": {
     "logged": 1687043217528
    },
    "jupyter": {
     "outputs_hidden": false,
     "source_hidden": false
    },
    "nteract": {
     "transient": {
      "deleting": false
     }
    }
   },
   "outputs": [
    {
     "ename": "SyntaxError",
     "evalue": "invalid syntax (166613794.py, line 3)",
     "output_type": "error",
     "traceback": [
      "\u001b[0;36m  Cell \u001b[0;32mIn[25], line 3\u001b[0;36m\u001b[0m\n\u001b[0;31m    pip install tensorflow-model-optimization\u001b[0m\n\u001b[0m        ^\u001b[0m\n\u001b[0;31mSyntaxError\u001b[0m\u001b[0;31m:\u001b[0m invalid syntax\n"
     ]
    }
   ],
   "source": [
    "#!pip install wandb\n",
    "#!pip install gradio\n",
    "#!pip install tensorflow-model-optimization\n"
   ]
  },
  {
   "cell_type": "markdown",
   "id": "03d42df6-bde7-4878-8d33-9c862729ae14",
   "metadata": {
    "nteract": {
     "transient": {
      "deleting": false
     }
    }
   },
   "source": [
    "#### Detele images from folders"
   ]
  },
  {
   "cell_type": "code",
   "execution_count": 19,
   "id": "c71588f0-10a8-4860-a3e7-c63b8e532381",
   "metadata": {
    "collapsed": false,
    "gather": {
     "logged": 1687043313818
    },
    "jupyter": {
     "outputs_hidden": false,
     "source_hidden": false
    },
    "nteract": {
     "transient": {
      "deleting": false
     }
    }
   },
   "outputs": [
    {
     "name": "stdout",
     "output_type": "stream",
     "text": [
      "mkdir: cannot create directory ‘images’: File exists\n",
      "mkdir: cannot create directory ‘images/train’: File exists\n",
      "mkdir: cannot create directory ‘images/validation’: File exists\n",
      "mkdir: cannot create directory ‘images/train/0/’: File exists\n",
      "mkdir: cannot create directory ‘images/validation/0/’: File exists\n",
      "mkdir: cannot create directory ‘images/train/1/’: File exists\n",
      "mkdir: cannot create directory ‘images/validation/1/’: File exists\n"
     ]
    }
   ],
   "source": [
    "# Clean folders\n",
    "\n",
    "!rm images/train/1/*\n",
    "!rm images/validation/1/*\n",
    "!rm images/train/0/*\n",
    "!rm images/validation/0/*\n",
    "\n",
    "# Create folders\n",
    "!mkdir images\n",
    "!mkdir images/train\n",
    "!mkdir images/validation\n",
    "\n",
    "!mkdir images/train/0/\n",
    "!mkdir images/validation/0/\n",
    "\n",
    "!mkdir images/train/1/\n",
    "!mkdir images/validation/1/\n"
   ]
  },
  {
   "cell_type": "markdown",
   "id": "87fd2e74-b95b-4d2b-8ce8-1723bedf9c82",
   "metadata": {
    "nteract": {
     "transient": {
      "deleting": false
     }
    }
   },
   "source": [
    "### Blob Connection and log parser"
   ]
  },
  {
   "cell_type": "code",
   "execution_count": 2,
   "id": "575990d3-b584-499f-b48a-6356e2544d3d",
   "metadata": {
    "collapsed": false,
    "gather": {
     "logged": 1687046060451
    },
    "jupyter": {
     "outputs_hidden": false,
     "source_hidden": false
    },
    "nteract": {
     "transient": {
      "deleting": false
     }
    }
   },
   "outputs": [
    {
     "name": "stderr",
     "output_type": "stream",
     "text": [
      "IOPub data rate exceeded.\n",
      "The Jupyter server will temporarily stop sending output\n",
      "to the client in order to avoid crashing it.\n",
      "To change this limit, set the config variable\n",
      "`--ServerApp.iopub_data_rate_limit`.\n",
      "\n",
      "Current values:\n",
      "ServerApp.iopub_data_rate_limit=1000000.0 (bytes/sec)\n",
      "ServerApp.rate_limit_window=3.0 (secs)\n",
      "\n"
     ]
    }
   ],
   "source": [
    "import pandas as pd\n",
    "import json\n",
    "import numpy as np\n",
    "\n",
    "\n",
    "from io import StringIO\n",
    "from azure.storage.blob import BlobServiceClient, BlobClient, ContainerClient\n",
    "\n",
    "# Connection to Container\n",
    "connection_string = \"DefaultEndpointsProtocol=https;AccountName=cs210032001db9f06eb;AccountKey=Q7i41vK6zB2p/aKXulAdSROpoIou5uYj+EulJri7p9VI9VH4Us+Rlj+9fo5GC78TxSlPNQEWaDVY+AStDBpAfA==;EndpointSuffix=core.windows.net\"\n",
    "container_name = \"container-ml\"\n",
    "blob_name = \"properties_gallito.jl\"\n",
    "\n",
    "blob_service_client = BlobServiceClient.from_connection_string(connection_string)\n",
    "container_client = blob_service_client.get_container_client(container_name)\n",
    "\n",
    "blob_client = container_client.get_blob_client(blob_name)\n",
    "csv_data = blob_client.download_blob().content_as_text()\n",
    "\n",
    "# Replace commas for correct dataframe formation\n",
    "csv_data2 = csv_data.replace(\".jpg\\\",\",\".jpg\\\";\").replace(\", \\\"status\\\":\",\"; \\\"status\\\":\").replace(\", {\\\"url\\\":\", \"; {\\\"url\\\":\")\n",
    "\n",
    "data = StringIO(csv_data2)\n",
    "df = pd.read_csv(data, header=None, on_bad_lines='skip')\n",
    "\n",
    "print(csv_data2)\n"
   ]
  },
  {
   "cell_type": "code",
   "execution_count": 21,
   "id": "bc782cc8-4846-48f5-9845-dd7e1963ea2b",
   "metadata": {
    "collapsed": false,
    "gather": {
     "logged": 1686612477882
    },
    "jupyter": {
     "outputs_hidden": false,
     "source_hidden": false
    },
    "nteract": {
     "transient": {
      "deleting": false
     }
    }
   },
   "outputs": [
    {
     "data": {
      "text/plain": [
       "' \"images\": [{\"url\": \"https://imagenes.gallito.com/1024x768/48931854.jpg\"; \"path\": \"full/0e040e8540402ac852cd676ef0fd88cb2f42c489.jpg\"; \"checksum\": \"36f868e1b1dfd5f8613ab70866eff078\"; \"status\": \"downloaded\"}; {\"url\": \"https://imagenes.gallito.com/1024x768/48931855.jpg\"; \"path\": \"full/6b52d350a917976ba33dbbe3e92aa92abe0886c3.jpg\"; \"checksum\": \"fee765fbc56e992a8f6f55e42e184cfa\"; \"status\": \"downloaded\"}; {\"url\": \"https://imagenes.gallito.com/1024x768/48931856.jpg\"; \"path\": \"full/0d98d020f7793c4f7446638a011aa5dd03197cd3.jpg\"; \"checksum\": \"738d5ef27711272f2571ee8eb4486e90\"; \"status\": \"downloaded\"}; {\"url\": \"https://imagenes.gallito.com/1024x768/48931857.jpg\"; \"path\": \"full/2f8528d1b71540460d9237dcf1870412751d4093.jpg\"; \"checksum\": \"301cb3880553b5f3e60cec13e381d06e\"; \"status\": \"downloaded\"}; {\"url\": \"https://imagenes.gallito.com/1024x768/48931858.jpg\"; \"path\": \"full/690de228ed7bbff8edd02f01a2942202c08d0e06.jpg\"; \"checksum\": \"7ee08eddedb2864d5737239dc514fbfb\"; \"status\": \"downloaded\"}; {\"url\": \"https://imagenes.gallito.com/1024x768/48931859.jpg\"; \"path\": \"full/8ac9630338c2a4eb3a7d8e7085c46744ddb6b741.jpg\"; \"checksum\": \"2342626830151a96ac08afc631e3d43f\"; \"status\": \"downloaded\"}; {\"url\": \"https://imagenes.gallito.com/1024x768/48931860.jpg\"; \"path\": \"full/f2d96d92c63afc83f8c145172926055d2e6d1183.jpg\"; \"checksum\": \"5b7d0338bf12c71d3d623f85f4ea71f0\"; \"status\": \"downloaded\"}; {\"url\": \"https://imagenes.gallito.com/1024x768/48931861.jpg\"; \"path\": \"full/01ca952254cb7ba991adcb7fb9659a99a1612da9.jpg\"; \"checksum\": \"e69b81e3e7ffa3de3d50de974b8174dc\"; \"status\": \"downloaded\"}; {\"url\": \"https://imagenes.gallito.com/1024x768/48931862.jpg\"; \"path\": \"full/e2494da808945324f17525e699c077eff85a74ae.jpg\"; \"checksum\": \"09a6016c18fc17500ca0f273885a828a\"; \"status\": \"downloaded\"}; {\"url\": \"https://imagenes.gallito.com/1024x768/48931863.jpg\"; \"path\": \"full/0b38f9a26e47f8802ed9c619fdc1b2231c6221b9.jpg\"; \"checksum\": \"cf6964dda1d80c234c41e277e37b6a8b\"; \"status\": \"downloaded\"}; {\"url\": \"https://imagenes.gallito.com/1024x768/48931864.jpg\"; \"path\": \"full/496c424ac81b1522840d53b5bd5633ce5db98c5a.jpg\"; \"checksum\": \"1015e5024a542cd452f80ba294cc09a6\"; \"status\": \"downloaded\"}]}'"
      ]
     },
     "execution_count": 21,
     "metadata": {},
     "output_type": "execute_result"
    }
   ],
   "source": [
    "# Example of parsed images\n",
    "df[7][0]"
   ]
  },
  {
   "cell_type": "code",
   "execution_count": 22,
   "id": "0fa85865-d112-4ac9-a5f9-225973fc3f05",
   "metadata": {
    "collapsed": false,
    "gather": {
     "logged": 1686501402318
    },
    "jupyter": {
     "outputs_hidden": false,
     "source_hidden": false
    },
    "nteract": {
     "transient": {
      "deleting": false
     }
    }
   },
   "outputs": [
    {
     "data": {
      "text/html": [
       "<div>\n",
       "<style scoped>\n",
       "    .dataframe tbody tr th:only-of-type {\n",
       "        vertical-align: middle;\n",
       "    }\n",
       "\n",
       "    .dataframe tbody tr th {\n",
       "        vertical-align: top;\n",
       "    }\n",
       "\n",
       "    .dataframe thead th {\n",
       "        text-align: right;\n",
       "    }\n",
       "</style>\n",
       "<table border=\"1\" class=\"dataframe\">\n",
       "  <thead>\n",
       "    <tr style=\"text-align: right;\">\n",
       "      <th></th>\n",
       "      <th>0</th>\n",
       "      <th>1</th>\n",
       "      <th>2</th>\n",
       "      <th>3</th>\n",
       "      <th>4</th>\n",
       "      <th>5</th>\n",
       "      <th>6</th>\n",
       "      <th>7</th>\n",
       "    </tr>\n",
       "  </thead>\n",
       "  <tbody>\n",
       "    <tr>\n",
       "      <th>0</th>\n",
       "      <td>{\"id\": \"23811743\"</td>\n",
       "      <td>\"image_urls\": [\"https://imagenes.gallito.com/...</td>\n",
       "      <td>\"source\": \"gallito\"</td>\n",
       "      <td>\"url\": \"https://www.gallito.com.uy/venta-exce...</td>\n",
       "      <td>\"link\": \"https://www.gallito.com.uy/venta-exc...</td>\n",
       "      <td>\"property_type\": \"HOUSE\"</td>\n",
       "      <td>\"property_rooms\": \"+4D\"</td>\n",
       "      <td>\"images\": [{\"url\": \"https://imagenes.gallito....</td>\n",
       "    </tr>\n",
       "    <tr>\n",
       "      <th>1</th>\n",
       "      <td>{\"id\": \"23839777\"</td>\n",
       "      <td>\"image_urls\": [\"https://imagenes.gallito.com/...</td>\n",
       "      <td>\"source\": \"gallito\"</td>\n",
       "      <td>\"url\": \"https://www.gallito.com.uy/casona-en-...</td>\n",
       "      <td>\"link\": \"https://www.gallito.com.uy/casona-en...</td>\n",
       "      <td>\"property_type\": \"HOUSE\"</td>\n",
       "      <td>\"property_rooms\": \"+4D\"</td>\n",
       "      <td>\"images\": [{\"url\": \"https://imagenes.gallito....</td>\n",
       "    </tr>\n",
       "    <tr>\n",
       "      <th>2</th>\n",
       "      <td>{\"id\": \"20670463\"</td>\n",
       "      <td>\"image_urls\": [\"https://imagenes.gallito.com/...</td>\n",
       "      <td>\"source\": \"gallito\"</td>\n",
       "      <td>\"url\": \"https://www.gallito.com.uy/venta-casa...</td>\n",
       "      <td>\"link\": \"https://www.gallito.com.uy/venta-cas...</td>\n",
       "      <td>\"property_type\": \"HOUSE\"</td>\n",
       "      <td>\"property_rooms\": \"+4D\"</td>\n",
       "      <td>\"images\": [{\"url\": \"https://imagenes.gallito....</td>\n",
       "    </tr>\n",
       "    <tr>\n",
       "      <th>3</th>\n",
       "      <td>{\"id\": \"23062877\"</td>\n",
       "      <td>\"image_urls\": [\"https://imagenes.gallito.com/...</td>\n",
       "      <td>\"source\": \"gallito\"</td>\n",
       "      <td>\"url\": \"https://www.gallito.com.uy/casa-en-ti...</td>\n",
       "      <td>\"link\": \"https://www.gallito.com.uy/casa-en-t...</td>\n",
       "      <td>\"property_type\": \"HOUSE\"</td>\n",
       "      <td>\"property_rooms\": \"3D\"</td>\n",
       "      <td>\"images\": [{\"url\": \"https://imagenes.gallito....</td>\n",
       "    </tr>\n",
       "    <tr>\n",
       "      <th>4</th>\n",
       "      <td>{\"id\": \"23250204\"</td>\n",
       "      <td>\"image_urls\": [\"https://imagenes.gallito.com/...</td>\n",
       "      <td>\"source\": \"gallito\"</td>\n",
       "      <td>\"url\": \"https://www.gallito.com.uy/venta-casa...</td>\n",
       "      <td>\"link\": \"https://www.gallito.com.uy/venta-cas...</td>\n",
       "      <td>\"property_type\": \"HOUSE\"</td>\n",
       "      <td>\"property_rooms\": \"+4D\"</td>\n",
       "      <td>\"images\": [{\"url\": \"https://imagenes.gallito....</td>\n",
       "    </tr>\n",
       "  </tbody>\n",
       "</table>\n",
       "</div>"
      ],
      "text/plain": [
       "                   0                                                  1   \n",
       "0  {\"id\": \"23811743\"   \"image_urls\": [\"https://imagenes.gallito.com/...  \\\n",
       "1  {\"id\": \"23839777\"   \"image_urls\": [\"https://imagenes.gallito.com/...   \n",
       "2  {\"id\": \"20670463\"   \"image_urls\": [\"https://imagenes.gallito.com/...   \n",
       "3  {\"id\": \"23062877\"   \"image_urls\": [\"https://imagenes.gallito.com/...   \n",
       "4  {\"id\": \"23250204\"   \"image_urls\": [\"https://imagenes.gallito.com/...   \n",
       "\n",
       "                      2                                                  3   \n",
       "0   \"source\": \"gallito\"   \"url\": \"https://www.gallito.com.uy/venta-exce...  \\\n",
       "1   \"source\": \"gallito\"   \"url\": \"https://www.gallito.com.uy/casona-en-...   \n",
       "2   \"source\": \"gallito\"   \"url\": \"https://www.gallito.com.uy/venta-casa...   \n",
       "3   \"source\": \"gallito\"   \"url\": \"https://www.gallito.com.uy/casa-en-ti...   \n",
       "4   \"source\": \"gallito\"   \"url\": \"https://www.gallito.com.uy/venta-casa...   \n",
       "\n",
       "                                                   4   \n",
       "0   \"link\": \"https://www.gallito.com.uy/venta-exc...  \\\n",
       "1   \"link\": \"https://www.gallito.com.uy/casona-en...   \n",
       "2   \"link\": \"https://www.gallito.com.uy/venta-cas...   \n",
       "3   \"link\": \"https://www.gallito.com.uy/casa-en-t...   \n",
       "4   \"link\": \"https://www.gallito.com.uy/venta-cas...   \n",
       "\n",
       "                           5                         6   \n",
       "0   \"property_type\": \"HOUSE\"   \"property_rooms\": \"+4D\"  \\\n",
       "1   \"property_type\": \"HOUSE\"   \"property_rooms\": \"+4D\"   \n",
       "2   \"property_type\": \"HOUSE\"   \"property_rooms\": \"+4D\"   \n",
       "3   \"property_type\": \"HOUSE\"    \"property_rooms\": \"3D\"   \n",
       "4   \"property_type\": \"HOUSE\"   \"property_rooms\": \"+4D\"   \n",
       "\n",
       "                                                   7  \n",
       "0   \"images\": [{\"url\": \"https://imagenes.gallito....  \n",
       "1   \"images\": [{\"url\": \"https://imagenes.gallito....  \n",
       "2   \"images\": [{\"url\": \"https://imagenes.gallito....  \n",
       "3   \"images\": [{\"url\": \"https://imagenes.gallito....  \n",
       "4   \"images\": [{\"url\": \"https://imagenes.gallito....  "
      ]
     },
     "execution_count": 22,
     "metadata": {},
     "output_type": "execute_result"
    }
   ],
   "source": [
    "# Dataframe from properties file\n",
    "df.head()"
   ]
  },
  {
   "cell_type": "markdown",
   "id": "9eddcf11-b656-4a59-89b5-a29841e8ee03",
   "metadata": {
    "nteract": {
     "transient": {
      "deleting": false
     }
    }
   },
   "source": [
    "### List of blobs "
   ]
  },
  {
   "cell_type": "code",
   "execution_count": 3,
   "id": "d3a831c2-724e-429c-8d14-6d9d3a79e5fb",
   "metadata": {
    "collapsed": false,
    "gather": {
     "logged": 1687046065418
    },
    "jupyter": {
     "outputs_hidden": false,
     "source_hidden": false
    },
    "nteract": {
     "transient": {
      "deleting": false
     }
    }
   },
   "outputs": [],
   "source": [
    "# Function creates array of all blobs from container that contain .jpg in their name\n",
    "def list_blobs_flat(blob_service_client: BlobServiceClient, container_name):\n",
    "    container_client = blob_service_client.get_container_client(container=container_name)\n",
    "    array = []\n",
    "    blob_list = container_client.list_blobs()\n",
    "\n",
    "    for blob in blob_list:\n",
    "        if (\".jpg\" in blob.name):\n",
    "            array.append(blob.name)\n",
    "    return array\n",
    "\n",
    "url_imagenes = list_blobs_flat(blob_service_client,\"container-ml\")\n",
    "\n",
    "# Obtain labels from names\n",
    "def get_labels(array_of_names):\n",
    "    array = []\n",
    "\n",
    "    for path in array_of_names:\n",
    "        array.append(path.split(\"_\")[2])\n",
    "    return array\n",
    "\n",
    "array_labels =  get_labels(url_imagenes)\n"
   ]
  },
  {
   "cell_type": "markdown",
   "id": "d50a7628-fbef-46d4-bdc3-a0102ed2ca63",
   "metadata": {
    "nteract": {
     "transient": {
      "deleting": false
     }
    }
   },
   "source": [
    "#### Plot distribution of classes"
   ]
  },
  {
   "cell_type": "code",
   "execution_count": 4,
   "id": "7b6ad960-f04d-456b-8e73-0e456b62a4f6",
   "metadata": {
    "collapsed": false,
    "gather": {
     "logged": 1687046066629
    },
    "jupyter": {
     "outputs_hidden": false,
     "source_hidden": false
    },
    "nteract": {
     "transient": {
      "deleting": false
     }
    }
   },
   "outputs": [
    {
     "data": {
      "image/png": "[encoded data removed]",
      "text/plain": [
       "<Figure size 640x480 with 1 Axes>"
      ]
     },
     "metadata": {},
     "output_type": "display_data"
    }
   ],
   "source": [
    "import matplotlib.pyplot as plt\n",
    "\n",
    "count_classes = {\"HOUSE\":0, \"APARTMENT\":0}\n",
    "for object in array_labels:\n",
    "    count_classes[object] = count_classes[object] + 1 \n",
    "\n",
    "classes = list(count_classes.keys())\n",
    "values = list(count_classes.values())\n",
    "\n",
    "plt.bar(range(len(count_classes)), values, tick_label=classes)\n",
    "plt.show()"
   ]
  },
  {
   "cell_type": "markdown",
   "id": "be647ff1-5c31-4e8a-9d9b-61fe5b9fba9d",
   "metadata": {
    "nteract": {
     "transient": {
      "deleting": false
     }
    }
   },
   "source": [
    "### Save images in Notebook folders"
   ]
  },
  {
   "cell_type": "code",
   "execution_count": 25,
   "id": "959e793f-0994-4994-bc9f-1e9ac89df6e1",
   "metadata": {
    "collapsed": false,
    "gather": {
     "logged": 1687043552352
    },
    "jupyter": {
     "outputs_hidden": false,
     "source_hidden": false
    },
    "nteract": {
     "transient": {
      "deleting": false
     }
    }
   },
   "outputs": [],
   "source": [
    "from azure.storage.blob import BlobServiceClient, BlobClient, ContainerClient\n",
    "import io\n",
    "from PIL import Image\n",
    "import matplotlib.pyplot as plt\n",
    "import pandas as pd\n",
    "from io import StringIO\n",
    "import random\n",
    "\n",
    "incr = 0\n",
    "train_tabular_data = []\n",
    "validation_tabular_data = []\n",
    "\n",
    "for blobName in url_imagenes:\n",
    "    incr += 1\n",
    "    try:\n",
    "        blob_service_client = BlobServiceClient.from_connection_string(conn_str=connection_string)\n",
    "        blob_name = blobName\n",
    "        blob_client = blob_service_client.get_blob_client(container_name, blob_name)\n",
    "\n",
    "        stream = io.BytesIO()\n",
    "        download_stream = blob_client.download_blob()\n",
    "\n",
    "        stream.write(download_stream.readall())\n",
    "\n",
    "        stream.seek(0)\n",
    "        image = Image.open(stream)\n",
    "\n",
    "        # Get information from URL\n",
    "        id = (blobName.split(\"_\")[0]).split(\"/\")[1]\n",
    "        tipo = blobName.split(\"_\")[2]\n",
    "\n",
    "        # Change traget to 0 and 1\n",
    "        if (tipo == \"HOUSE\"):\n",
    "            tipo = \"0\"\n",
    "        else:\n",
    "            tipo = \"1\"\n",
    "\n",
    "        rooms = blobName.split(\"_\")[3].split(\".\")[0]\n",
    "        meters = blobName.split(\"_\")[4].split(\"mts\")[0]\n",
    "\n",
    "        # Special case of \"has\" instead of mts\n",
    "        if \"has.\" in meters:\n",
    "            meters = str(int(meters.split(\"has.\")[0])*10000)\n",
    "\n",
    "        # Sort partitions 80-20\n",
    "        if random.uniform(0, 1) > 0.2:\n",
    "            image.save(\"images/train/\"+tipo+\"/\"+id+\"_\"+str(incr)+\".jpg\")\n",
    "            train_tabular_data.append((rooms,meters,tipo))\n",
    "        else:\n",
    "            image.save(\"images/validation/\"+tipo+\"/\"+id+\"_\"+str(incr)+\".jpg\")\n",
    "            validation_tabular_data.append((rooms,meters,tipo))\n",
    "\n",
    "    except Exception as ex:\n",
    "        print('Exception:')\n",
    "\n"
   ]
  },
  {
   "cell_type": "markdown",
   "id": "0837b21a-c779-44e2-bb17-808ba5af14fc",
   "metadata": {
    "nteract": {
     "transient": {
      "deleting": false
     }
    }
   },
   "source": [
    "#### Save tabular data into CSVs"
   ]
  },
  {
   "cell_type": "code",
   "execution_count": 26,
   "id": "6f47375e-c090-4d13-8741-b5a88bdd2dd1",
   "metadata": {
    "collapsed": false,
    "gather": {
     "logged": 1687046073247
    },
    "jupyter": {
     "outputs_hidden": false,
     "source_hidden": false
    },
    "nteract": {
     "transient": {
      "deleting": false
     }
    }
   },
   "outputs": [],
   "source": [
    "import csv \n",
    "\n",
    "train_tabular_data = np.array(train_tabular_data)\n",
    "validation_tabular_data = np.array(validation_tabular_data)\n",
    "headers = [\"Cuartos\",\"Meters\",\"target\"]\n",
    "\n",
    "def write_csv(CSV_name, array, headers_csv):\n",
    "    with open(CSV_name, 'w', encoding='UTF8') as f:\n",
    "        writer = csv.writer(f)\n",
    "        writer.writerow(headers_csv)\n",
    "        for data in array:\n",
    "            writer.writerow(data)\n",
    "    \n",
    "write_csv('csv_train.csv', train_tabular_data, headers)    \n",
    "write_csv('csv_validation.csv', validation_tabular_data, headers)"
   ]
  },
  {
   "cell_type": "markdown",
   "id": "023831da-1468-48dc-b589-b183e47d5e5d",
   "metadata": {
    "nteract": {
     "transient": {
      "deleting": false
     }
    }
   },
   "source": [
    "#### Definitions"
   ]
  },
  {
   "cell_type": "code",
   "execution_count": 5,
   "id": "4a8c6542-114d-4ec5-b201-c06ca8920b1c",
   "metadata": {
    "collapsed": false,
    "gather": {
     "logged": 1687046082679
    },
    "jupyter": {
     "outputs_hidden": false,
     "source_hidden": false
    },
    "nteract": {
     "transient": {
      "deleting": false
     }
    }
   },
   "outputs": [],
   "source": [
    "# Definitions\n",
    "batch_size = 32\n",
    "img_height = 180\n",
    "img_width = 180\n",
    "num_channels = 3\n",
    "epochs = 30\n",
    "steps_per_epoch = 30\n",
    "validation_steps = 10\n",
    "num_tabular_features = 2\n",
    "class_names = [\"HOUSE\",\"APARTMENT\"]\n",
    "class_names_binary = [\"0\",\"1\"]\n"
   ]
  },
  {
   "cell_type": "markdown",
   "id": "1d1cb74f-7db2-46b8-a018-472bc76c8ec3",
   "metadata": {
    "nteract": {
     "transient": {
      "deleting": false
     }
    }
   },
   "source": [
    "### Plot images"
   ]
  },
  {
   "cell_type": "code",
   "execution_count": 19,
   "id": "fee7bdda-c0dc-489e-aca0-3580509868da",
   "metadata": {
    "collapsed": false,
    "gather": {
     "logged": 1687005460574
    },
    "jupyter": {
     "outputs_hidden": false
    },
    "nteract": {
     "transient": {
      "deleting": false
     }
    }
   },
   "outputs": [
    {
     "name": "stdout",
     "output_type": "stream",
     "text": [
      "0\n"
     ]
    },
    {
     "data": {
      "text/plain": [
       "<Figure size 640x480 with 1 Axes>"
      ]
     },
     "metadata": {},
     "output_type": "display_data"
    },
    {
     "data": {
      "text/plain": [
       "<Figure size 200x200 with 1 Axes>"
      ]
     },
     "metadata": {},
     "output_type": "display_data"
    },
    {
     "data": {
      "text/plain": [
       "<Figure size 200x200 with 1 Axes>"
      ]
     },
     "metadata": {},
     "output_type": "display_data"
    },
    {
     "data": {
      "text/plain": [
       "<Figure size 200x200 with 1 Axes>"
      ]
     },
     "metadata": {},
     "output_type": "display_data"
    },
    {
     "data": {
      "text/plain": [
       "<Figure size 200x200 with 1 Axes>"
      ]
     },
     "metadata": {},
     "output_type": "display_data"
    },
    {
     "data": {
      "text/plain": [
       "<Figure size 200x200 with 0 Axes>"
      ]
     },
     "metadata": {},
     "output_type": "display_data"
    },
    {
     "name": "stdout",
     "output_type": "stream",
     "text": [
      "1\n"
     ]
    },
    {
     "data": {
      "text/plain": [
       "<Figure size 640x480 with 1 Axes>"
      ]
     },
     "metadata": {},
     "output_type": "display_data"
    },
    {
     "data": {
      "text/plain": [
       "<Figure size 200x200 with 1 Axes>"
      ]
     },
     "metadata": {},
     "output_type": "display_data"
    },
    {
     "data": {
      "text/plain": [
       "<Figure size 200x200 with 1 Axes>"
      ]
     },
     "metadata": {},
     "output_type": "display_data"
    },
    {
     "data": {
      "text/plain": [
       "<Figure size 200x200 with 1 Axes>"
      ]
     },
     "metadata": {},
     "output_type": "display_data"
    },
    {
     "data": {
      "text/plain": [
       "<Figure size 200x200 with 1 Axes>"
      ]
     },
     "metadata": {},
     "output_type": "display_data"
    },
    {
     "data": {
      "text/plain": [
       "<Figure size 200x200 with 0 Axes>"
      ]
     },
     "metadata": {},
     "output_type": "display_data"
    }
   ],
   "source": [
    "import matplotlib.pyplot as plt\n",
    "import glob, random\n",
    "from tensorflow.keras.utils import load_img\n",
    "\n",
    "for class_type in class_names_binary:\n",
    "    print(class_type)\n",
    "    i = 0\n",
    "    for i in range(5):\n",
    "        images = glob.glob(\"images/train/\"+str(class_names_binary)+\"/*.jpg\")\n",
    "        random_image = random.choice(images)\n",
    "\n",
    "        # load the image\n",
    "        img = load_img(random_image)\n",
    "\n",
    "        plt.imshow(img)\n",
    "        plt.figure(figsize=(2,2)) \n",
    "        i += 1\n",
    "    plt.show()"
   ]
  },
  {
   "cell_type": "markdown",
   "id": "e67021cc-a6f7-40d8-8000-4b6948c48c1b",
   "metadata": {
    "nteract": {
     "transient": {
      "deleting": false
     }
    }
   },
   "source": [
    "### Dataset Generation"
   ]
  },
  {
   "cell_type": "markdown",
   "id": "cd16d8b5-8f65-44a0-9c04-0317e6d7350c",
   "metadata": {
    "nteract": {
     "transient": {
      "deleting": false
     }
    }
   },
   "source": [
    "##### Image dataset Generation"
   ]
  },
  {
   "cell_type": "code",
   "execution_count": 6,
   "id": "c0668fa7-c6ca-4276-be99-fd6981db26ed",
   "metadata": {
    "collapsed": false,
    "gather": {
     "logged": 1687046089051
    },
    "jupyter": {
     "outputs_hidden": false
    },
    "nteract": {
     "transient": {
      "deleting": false
     }
    }
   },
   "outputs": [
    {
     "name": "stderr",
     "output_type": "stream",
     "text": [
      "2023-06-18 13:04:04.180810: I tensorflow/core/platform/cpu_feature_guard.cc:182] This TensorFlow binary is optimized to use available CPU instructions in performance-critical operations.\n",
      "To enable the following instructions: AVX2 AVX512F FMA, in other operations, rebuild TensorFlow with the appropriate compiler flags.\n",
      "2023-06-18 13:04:08.609492: W tensorflow/compiler/tf2tensorrt/utils/py_utils.cc:38] TF-TRT Warning: Could not find TensorRT\n"
     ]
    },
    {
     "name": "stdout",
     "output_type": "stream",
     "text": [
      "Found 1396 images belonging to 2 classes.\n",
      "Found 338 images belonging to 2 classes.\n"
     ]
    }
   ],
   "source": [
    "from tensorflow.keras.preprocessing.image import ImageDataGenerator\n",
    "\n",
    "train_datagen = ImageDataGenerator(\n",
    "        rescale=1./255,\n",
    "        shear_range=0.2,\n",
    "        zoom_range=0.2,\n",
    "        horizontal_flip=True,\n",
    "        rotation_range=20,\n",
    "        width_shift_range=0.05,\n",
    "        height_shift_range=0.05,\n",
    "        vertical_flip=True,\n",
    "        fill_mode=\"nearest\")\n",
    "\n",
    "test_datagen = ImageDataGenerator(rescale=1./255)\n",
    "\n",
    "train_generator = train_datagen.flow_from_directory(\n",
    "        'images/train',\n",
    "        target_size=(img_height, img_width),\n",
    "        batch_size=32,\n",
    "        class_mode='categorical')\n",
    "\n",
    "validation_generator = test_datagen.flow_from_directory(\n",
    "        'images/validation',\n",
    "        target_size=(img_height, img_width),\n",
    "        batch_size=32,\n",
    "        class_mode='categorical')"
   ]
  },
  {
   "cell_type": "markdown",
   "id": "6452c18c-8209-4957-9c9a-4d638b99ce25",
   "metadata": {
    "nteract": {
     "transient": {
      "deleting": false
     }
    }
   },
   "source": [
    "##### Tabular data processing"
   ]
  },
  {
   "cell_type": "code",
   "execution_count": 7,
   "id": "906a9254-3040-402c-8c81-e73da918ced0",
   "metadata": {
    "collapsed": false,
    "gather": {
     "logged": 1687046093036
    },
    "jupyter": {
     "outputs_hidden": false
    },
    "nteract": {
     "transient": {
      "deleting": false
     }
    }
   },
   "outputs": [],
   "source": [
    "import pandas as pd\n",
    "import numpy as np\n",
    "from sklearn.model_selection import train_test_split\n",
    "from sklearn.preprocessing import StandardScaler\n",
    "import tensorflow as tf\n",
    "from tensorflow.keras.models import Sequential\n",
    "from tensorflow.keras.layers import Dense\n",
    "\n",
    "# Load the CSV file\n",
    "data_train = pd.read_csv('csv_train.csv')\n",
    "data_validation = pd.read_csv('csv_validation.csv')\n",
    "\n",
    "data_train['Cuartos'] = data_train['Cuartos'].str.replace('D','')\n",
    "data_train['Cuartos'] = data_train['Cuartos'].str.replace('+','')\n",
    "\n",
    "data_validation['Cuartos'] = data_validation['Cuartos'].str.replace('D','')\n",
    "data_validation['Cuartos'] = data_validation['Cuartos'].str.replace('+','')\n",
    "\n",
    "# Split into features and target\n",
    "X_train = data_train.drop('target', axis=1).astype(float).to_numpy()\n",
    "y_train = data_train.iloc[:,-1].astype(float).to_numpy().reshape(-1, 1)\n",
    "X_test = data_validation.drop('target', axis=1).astype(float).to_numpy()\n",
    "y_test = data_validation.iloc[:,-1].astype(float).to_numpy().reshape(-1, 1)"
   ]
  },
  {
   "cell_type": "code",
   "execution_count": 8,
   "id": "7bce9c0b-7623-4150-a3c1-eee9f5323b5f",
   "metadata": {
    "collapsed": false,
    "gather": {
     "logged": 1687046165187
    },
    "jupyter": {
     "outputs_hidden": false
    },
    "nteract": {
     "transient": {
      "deleting": false
     }
    }
   },
   "outputs": [],
   "source": [
    "# Concatenate batches of images\n",
    "train_generator_concatenated=np.concatenate([train_generator.next()[0] for i in range(train_generator.__len__())])\n",
    "validation_generator_concatenated=np.concatenate([validation_generator.next()[0] for i in range(validation_generator.__len__())])"
   ]
  },
  {
   "cell_type": "code",
   "execution_count": 9,
   "id": "6b0e1990-14da-4c7c-8aa5-370254beb842",
   "metadata": {
    "collapsed": false,
    "gather": {
     "logged": 1687046165327
    },
    "jupyter": {
     "outputs_hidden": false
    },
    "nteract": {
     "transient": {
      "deleting": false
     }
    }
   },
   "outputs": [],
   "source": [
    "# Transform targets to categorical objects\n",
    "y_train = tf.keras.utils.to_categorical(y_train, 2)\n",
    "y_test = tf.keras.utils.to_categorical(y_test, 2)"
   ]
  },
  {
   "cell_type": "markdown",
   "id": "6be4fe07-1cbd-4b0f-b234-f896fb4da77b",
   "metadata": {
    "nteract": {
     "transient": {
      "deleting": false
     }
    }
   },
   "source": [
    "### Model Definition"
   ]
  },
  {
   "cell_type": "code",
   "execution_count": 12,
   "id": "40a39538-f49f-4a27-a8d7-b27ff153123e",
   "metadata": {
    "collapsed": false,
    "gather": {
     "logged": 1687035047142
    },
    "jupyter": {
     "outputs_hidden": false
    },
    "nteract": {
     "transient": {
      "deleting": false
     }
    }
   },
   "outputs": [
    {
     "name": "stdout",
     "output_type": "stream",
     "text": [
      "Model: \"model\"\n",
      "__________________________________________________________________________________________________\n",
      " Layer (type)                   Output Shape         Param #     Connected to                     \n",
      "==================================================================================================\n",
      " input_1 (InputLayer)           [(None, 180, 180, 3  0           []                               \n",
      "                                )]                                                                \n",
      "                                                                                                  \n",
      " conv2d (Conv2D)                (None, 178, 178, 64  1792        ['input_1[0][0]']                \n",
      "                                )                                                                 \n",
      "                                                                                                  \n",
      " max_pooling2d (MaxPooling2D)   (None, 89, 89, 64)   0           ['conv2d[0][0]']                 \n",
      "                                                                                                  \n",
      " conv2d_1 (Conv2D)              (None, 87, 87, 128)  73856       ['max_pooling2d[0][0]']          \n",
      "                                                                                                  \n",
      " max_pooling2d_1 (MaxPooling2D)  (None, 43, 43, 128)  0          ['conv2d_1[0][0]']               \n",
      "                                                                                                  \n",
      " batch_normalization_1 (BatchNo  (None, 43, 43, 128)  512        ['max_pooling2d_1[0][0]']        \n",
      " rmalization)                                                                                     \n",
      "                                                                                                  \n",
      " input_2 (InputLayer)           [(None, 2)]          0           []                               \n",
      "                                                                                                  \n",
      " flatten (Flatten)              (None, 236672)       0           ['batch_normalization_1[0][0]']  \n",
      "                                                                                                  \n",
      " dense_1 (Dense)                (None, 128)          384         ['input_2[0][0]']                \n",
      "                                                                                                  \n",
      " dropout (Dropout)              (None, 236672)       0           ['flatten[0][0]']                \n",
      "                                                                                                  \n",
      " dropout_1 (Dropout)            (None, 128)          0           ['dense_1[0][0]']                \n",
      "                                                                                                  \n",
      " dense (Dense)                  (None, 128)          30294144    ['dropout[0][0]']                \n",
      "                                                                                                  \n",
      " dense_2 (Dense)                (None, 64)           8256        ['dropout_1[0][0]']              \n",
      "                                                                                                  \n",
      " concatenate (Concatenate)      (None, 192)          0           ['dense[0][0]',                  \n",
      "                                                                  'dense_2[0][0]']                \n",
      "                                                                                                  \n",
      " dropout_2 (Dropout)            (None, 192)          0           ['concatenate[0][0]']            \n",
      "                                                                                                  \n",
      " dense_3 (Dense)                (None, 192)          37056       ['dropout_2[0][0]']              \n",
      "                                                                                                  \n",
      " dense_4 (Dense)                (None, 2)            386         ['dense_3[0][0]']                \n",
      "                                                                                                  \n",
      "==================================================================================================\n",
      "Total params: 30,416,386\n",
      "Trainable params: 30,416,130\n",
      "Non-trainable params: 256\n",
      "__________________________________________________________________________________________________\n"
     ]
    }
   ],
   "source": [
    "import tensorflow as tf\n",
    "from tensorflow.keras.models import Sequential\n",
    "from tensorflow.keras.layers import Input, Conv2D, MaxPooling2D, Flatten, Dense, Concatenate, BatchNormalization, Dropout\n",
    "from tensorflow.keras.layers import concatenate\n",
    "from tensorflow.keras.models import Model\n",
    "\n",
    "image_input = Input(shape=(img_height, img_width, num_channels))\n",
    "conv1 = Conv2D(64, kernel_size=(3, 3), activation='relu')(image_input)\n",
    "pool1 = MaxPooling2D(pool_size=(2, 2))(conv1)\n",
    "batch1 = BatchNormalization()(pool1)\n",
    "conv2 = Conv2D(128, kernel_size=(3, 3), activation='relu')(pool1)\n",
    "pool2 = MaxPooling2D(pool_size=(2, 2))(conv2)\n",
    "batch2 = BatchNormalization()(pool2)\n",
    "flatten = Flatten()(batch2)\n",
    "drop1 = Dropout(rate = 0.4)(flatten)\n",
    "image_features = Dense(128, activation='relu')(drop1)\n",
    "\n",
    "# Tabular Data Processing Branch\n",
    "tabular_input = Input(shape=(num_tabular_features,))\n",
    "dense1 = Dense(128, activation='relu')(tabular_input)\n",
    "drop2 = Dropout(rate = 0.4)(dense1)\n",
    "tabular_features = Dense(64, activation='relu')(drop2)\n",
    "\n",
    "# Fusion Layer\n",
    "concatenated = Concatenate()([image_features, tabular_features])\n",
    "drop3 = Dropout(rate = 0.4)(concatenated)\n",
    "fusion_layer = Dense(192, activation='relu')(drop3)\n",
    "\n",
    "# Output Layer\n",
    "output = Dense(2, activation='softmax')(fusion_layer)\n",
    "\n",
    "# Create the model\n",
    "model = Model(inputs=[image_input, tabular_input], outputs=output)\n",
    "\n",
    "model.summary()"
   ]
  },
  {
   "cell_type": "markdown",
   "id": "85a3544d-7923-4f9e-8dc3-b00901ae720e",
   "metadata": {
    "nteract": {
     "transient": {
      "deleting": false
     }
    }
   },
   "source": [
    "### Model compilation"
   ]
  },
  {
   "cell_type": "markdown",
   "id": "2fa1ebe8-3c9d-4ed6-807b-dd6201654a52",
   "metadata": {
    "nteract": {
     "transient": {
      "deleting": false
     }
    }
   },
   "source": [
    "Ejecución del modelo para primeras pruebas, con el objetivo de poder llegar a obtener un modelo que pueda utilizar los datos de imágenes y los datos tabulares procesados previamente."
   ]
  },
  {
   "cell_type": "code",
   "execution_count": 14,
   "id": "02eef7ca-150a-4617-a1b9-96bbf3f1583a",
   "metadata": {
    "collapsed": false,
    "gather": {
     "logged": 1687036233864
    },
    "jupyter": {
     "outputs_hidden": false
    },
    "nteract": {
     "transient": {
      "deleting": false
     }
    }
   },
   "outputs": [
    {
     "name": "stdout",
     "output_type": "stream",
     "text": [
      "Epoch 1/10\n",
      "30/30 [==============================] - 42s 1s/step - loss: 2.5292 - accuracy: 0.6884 - val_loss: 0.9341 - val_accuracy: 0.6982\n",
      "Epoch 2/10\n",
      "30/30 [==============================] - 40s 1s/step - loss: 0.9510 - accuracy: 0.7271 - val_loss: 2.0043 - val_accuracy: 0.5000\n",
      "Epoch 3/10\n",
      "30/30 [==============================] - 40s 1s/step - loss: 0.8599 - accuracy: 0.7264 - val_loss: 1.1260 - val_accuracy: 0.6420\n",
      "Epoch 4/10\n",
      "30/30 [==============================] - 40s 1s/step - loss: 0.6333 - accuracy: 0.7607 - val_loss: 1.8574 - val_accuracy: 0.5444\n",
      "Epoch 5/10\n",
      "30/30 [==============================] - 40s 1s/step - loss: 0.5385 - accuracy: 0.7901 - val_loss: 0.7507 - val_accuracy: 0.6568\n",
      "Epoch 6/10\n",
      "30/30 [==============================] - 40s 1s/step - loss: 0.4203 - accuracy: 0.8288 - val_loss: 1.2495 - val_accuracy: 0.6095\n",
      "Epoch 7/10\n",
      "30/30 [==============================] - 40s 1s/step - loss: 0.3750 - accuracy: 0.8582 - val_loss: 0.9120 - val_accuracy: 0.6598\n",
      "Epoch 8/10\n",
      "30/30 [==============================] - 40s 1s/step - loss: 0.2670 - accuracy: 0.8940 - val_loss: 1.0192 - val_accuracy: 0.6302\n",
      "Epoch 9/10\n",
      "30/30 [==============================] - 40s 1s/step - loss: 0.1990 - accuracy: 0.9262 - val_loss: 1.0392 - val_accuracy: 0.6450\n",
      "Epoch 10/10\n",
      "30/30 [==============================] - 40s 1s/step - loss: 0.1652 - accuracy: 0.9341 - val_loss: 1.1338 - val_accuracy: 0.6272\n"
     ]
    }
   ],
   "source": [
    "# Compile the model\n",
    "\n",
    "model.compile(optimizer='adam', loss='categorical_crossentropy', metrics=['accuracy'])\n",
    "\n",
    "# Execution of model\n",
    "\n",
    "history = model.fit(x=[train_generator_concatenated, X_train], y=y_train, \n",
    "                        steps_per_epoch=steps_per_epoch,\n",
    "                        epochs=10, \n",
    "                        validation_data=([validation_generator_concatenated, X_test], y_test), \n",
    "                        validation_steps = validation_steps)"
   ]
  },
  {
   "cell_type": "markdown",
   "id": "e9029e6a-e77c-426e-91a2-8c23c80ad9fb",
   "metadata": {
    "nteract": {
     "transient": {
      "deleting": false
     }
    }
   },
   "source": [
    "## WANDB"
   ]
  },
  {
   "cell_type": "code",
   "execution_count": 33,
   "id": "fd604831-009e-45f1-af4e-f8631e953ae6",
   "metadata": {
    "collapsed": false,
    "gather": {
     "logged": 1687046165472
    },
    "jupyter": {
     "outputs_hidden": false
    },
    "nteract": {
     "transient": {
      "deleting": false
     }
    }
   },
   "outputs": [
    {
     "name": "stderr",
     "output_type": "stream",
     "text": [
      "\u001b[34m\u001b[1mwandb\u001b[0m: \u001b[33mWARNING\u001b[0m If you're specifying your api key in code, ensure this code is not shared publicly.\n",
      "\u001b[34m\u001b[1mwandb\u001b[0m: \u001b[33mWARNING\u001b[0m Consider setting the WANDB_API_KEY environment variable, or running `wandb login` from the command line.\n",
      "\u001b[34m\u001b[1mwandb\u001b[0m: Appending key for api.wandb.ai to your netrc file: /home/azureuser/.netrc\n"
     ]
    },
    {
     "data": {
      "text/plain": [
       "True"
      ]
     },
     "execution_count": 33,
     "metadata": {},
     "output_type": "execute_result"
    }
   ],
   "source": [
    "import warnings\n",
    "warnings.filterwarnings('ignore')\n",
    "\n",
    "import os\n",
    "os.environ['TF_CPP_MIN_LOG_LEVEL'] = '2'\n",
    "\n",
    "import wandb\n",
    "from wandb.keras import WandbCallback\n",
    "\n",
    "# Account Key\n",
    "wandb.login(key=\"bb15b17a6eb09e20bb877cebbceb375ade025b37\")"
   ]
  },
  {
   "cell_type": "code",
   "execution_count": 34,
   "id": "0ef50c59-5492-48ca-b717-cf9d7c389193",
   "metadata": {
    "collapsed": false,
    "gather": {
     "logged": 1687051110193
    },
    "jupyter": {
     "outputs_hidden": false
    },
    "nteract": {
     "transient": {
      "deleting": false
     }
    }
   },
   "outputs": [
    {
     "data": {
      "text/html": [
       "Tracking run with wandb version 0.15.4"
      ],
      "text/plain": [
       "<IPython.core.display.HTML object>"
      ]
     },
     "metadata": {},
     "output_type": "display_data"
    },
    {
     "data": {
      "text/html": [
       "Run data is saved locally in <code>/mnt/batch/tasks/shared/LS_root/mounts/clusters/fb1586871/code/Users/FB158687/wandb/run-20230618_013256-lg0yv68h</code>"
      ],
      "text/plain": [
       "<IPython.core.display.HTML object>"
      ]
     },
     "metadata": {},
     "output_type": "display_data"
    },
    {
     "data": {
      "text/html": [
       "Syncing run <strong><a href='https://wandb.ai/bgm-team/ml-en-produccion/runs/lg0yv68h' target=\"_blank\">usual-blaze-33</a></strong> to <a href='https://wandb.ai/bgm-team/ml-en-produccion' target=\"_blank\">Weights & Biases</a> (<a href='https://wandb.me/run' target=\"_blank\">docs</a>)<br/>"
      ],
      "text/plain": [
       "<IPython.core.display.HTML object>"
      ]
     },
     "metadata": {},
     "output_type": "display_data"
    },
    {
     "data": {
      "text/html": [
       " View project at <a href='https://wandb.ai/bgm-team/ml-en-produccion' target=\"_blank\">https://wandb.ai/bgm-team/ml-en-produccion</a>"
      ],
      "text/plain": [
       "<IPython.core.display.HTML object>"
      ]
     },
     "metadata": {},
     "output_type": "display_data"
    },
    {
     "data": {
      "text/html": [
       " View run at <a href='https://wandb.ai/bgm-team/ml-en-produccion/runs/lg0yv68h' target=\"_blank\">https://wandb.ai/bgm-team/ml-en-produccion/runs/lg0yv68h</a>"
      ],
      "text/plain": [
       "<IPython.core.display.HTML object>"
      ]
     },
     "metadata": {},
     "output_type": "display_data"
    },
    {
     "name": "stdout",
     "output_type": "stream",
     "text": [
      "Epoch 1/5\n",
      "30/30 [==============================] - ETA: 0s - loss: 1.0204 - accuracy: 0.7514"
     ]
    },
    {
     "name": "stderr",
     "output_type": "stream",
     "text": [
      "WARNING:absl:Found untraced functions such as _update_step_xla, conv2d_20_layer_call_fn, conv2d_20_layer_call_and_return_conditional_losses, _jit_compiled_convolution_op, conv2d_21_layer_call_fn while saving (showing 5 of 19). These functions will not be directly callable after loading.\n"
     ]
    },
    {
     "name": "stdout",
     "output_type": "stream",
     "text": [
      "INFO:tensorflow:Assets written to: my_model_01/assets\n"
     ]
    },
    {
     "name": "stderr",
     "output_type": "stream",
     "text": [
      "INFO:tensorflow:Assets written to: my_model_01/assets\n",
      "\u001b[34m\u001b[1mwandb\u001b[0m: Adding directory to artifact (./my_model_01)... Done. 9.7s\n"
     ]
    },
    {
     "name": "stdout",
     "output_type": "stream",
     "text": [
      "30/30 [==============================] - 66s 2s/step - loss: 1.0204 - accuracy: 0.7514 - val_loss: 0.5555 - val_accuracy: 0.7308\n",
      "Epoch 2/5\n",
      "30/30 [==============================] - ETA: 0s - loss: 0.4781 - accuracy: 0.7851"
     ]
    },
    {
     "name": "stderr",
     "output_type": "stream",
     "text": [
      "WARNING:absl:Found untraced functions such as _update_step_xla, conv2d_20_layer_call_fn, conv2d_20_layer_call_and_return_conditional_losses, _jit_compiled_convolution_op, conv2d_21_layer_call_fn while saving (showing 5 of 19). These functions will not be directly callable after loading.\n"
     ]
    },
    {
     "name": "stdout",
     "output_type": "stream",
     "text": [
      "INFO:tensorflow:Assets written to: my_model_02/assets\n"
     ]
    },
    {
     "name": "stderr",
     "output_type": "stream",
     "text": [
      "INFO:tensorflow:Assets written to: my_model_02/assets\n",
      "\u001b[34m\u001b[1mwandb\u001b[0m: Adding directory to artifact (./my_model_02)... Done. 9.5s\n"
     ]
    },
    {
     "name": "stdout",
     "output_type": "stream",
     "text": [
      "30/30 [==============================] - 66s 2s/step - loss: 0.4781 - accuracy: 0.7851 - val_loss: 0.4751 - val_accuracy: 0.7692\n",
      "Epoch 3/5\n",
      "30/30 [==============================] - ETA: 0s - loss: 0.4717 - accuracy: 0.7650"
     ]
    },
    {
     "name": "stderr",
     "output_type": "stream",
     "text": [
      "WARNING:absl:Found untraced functions such as _update_step_xla, conv2d_20_layer_call_fn, conv2d_20_layer_call_and_return_conditional_losses, _jit_compiled_convolution_op, conv2d_21_layer_call_fn while saving (showing 5 of 19). These functions will not be directly callable after loading.\n"
     ]
    },
    {
     "name": "stdout",
     "output_type": "stream",
     "text": [
      "INFO:tensorflow:Assets written to: my_model_03/assets\n"
     ]
    },
    {
     "name": "stderr",
     "output_type": "stream",
     "text": [
      "INFO:tensorflow:Assets written to: my_model_03/assets\n",
      "\u001b[34m\u001b[1mwandb\u001b[0m: Adding directory to artifact (./my_model_03)... Done. 11.2s\n"
     ]
    },
    {
     "name": "stdout",
     "output_type": "stream",
     "text": [
      "30/30 [==============================] - 59s 2s/step - loss: 0.4717 - accuracy: 0.7650 - val_loss: 0.4915 - val_accuracy: 0.7751\n",
      "Epoch 4/5\n",
      "30/30 [==============================] - ETA: 0s - loss: 0.4160 - accuracy: 0.8202"
     ]
    },
    {
     "name": "stderr",
     "output_type": "stream",
     "text": [
      "WARNING:absl:Found untraced functions such as _update_step_xla, conv2d_20_layer_call_fn, conv2d_20_layer_call_and_return_conditional_losses, _jit_compiled_convolution_op, conv2d_21_layer_call_fn while saving (showing 5 of 19). These functions will not be directly callable after loading.\n"
     ]
    },
    {
     "name": "stdout",
     "output_type": "stream",
     "text": [
      "INFO:tensorflow:Assets written to: my_model_04/assets\n"
     ]
    },
    {
     "name": "stderr",
     "output_type": "stream",
     "text": [
      "INFO:tensorflow:Assets written to: my_model_04/assets\n",
      "\u001b[34m\u001b[1mwandb\u001b[0m: Adding directory to artifact (./my_model_04)... Done. 9.0s\n"
     ]
    },
    {
     "name": "stdout",
     "output_type": "stream",
     "text": [
      "30/30 [==============================] - 56s 2s/step - loss: 0.4160 - accuracy: 0.8202 - val_loss: 0.5295 - val_accuracy: 0.7692\n",
      "Epoch 5/5\n",
      "30/30 [==============================] - ETA: 0s - loss: 0.3200 - accuracy: 0.8689"
     ]
    },
    {
     "name": "stderr",
     "output_type": "stream",
     "text": [
      "WARNING:absl:Found untraced functions such as _update_step_xla, conv2d_20_layer_call_fn, conv2d_20_layer_call_and_return_conditional_losses, _jit_compiled_convolution_op, conv2d_21_layer_call_fn while saving (showing 5 of 19). These functions will not be directly callable after loading.\n"
     ]
    },
    {
     "name": "stdout",
     "output_type": "stream",
     "text": [
      "INFO:tensorflow:Assets written to: my_model_05/assets\n"
     ]
    },
    {
     "name": "stderr",
     "output_type": "stream",
     "text": [
      "INFO:tensorflow:Assets written to: my_model_05/assets\n",
      "\u001b[34m\u001b[1mwandb\u001b[0m: Adding directory to artifact (./my_model_05)... Done. 9.9s\n"
     ]
    },
    {
     "name": "stdout",
     "output_type": "stream",
     "text": [
      "30/30 [==============================] - 58s 2s/step - loss: 0.3200 - accuracy: 0.8689 - val_loss: 0.6027 - val_accuracy: 0.7160\n"
     ]
    },
    {
     "data": {
      "text/html": [
       "Waiting for W&B process to finish... <strong style=\"color:green\">(success).</strong>"
      ],
      "text/plain": [
       "<IPython.core.display.HTML object>"
      ]
     },
     "metadata": {},
     "output_type": "display_data"
    },
    {
     "data": {
      "text/html": [
       "<style>\n",
       "    table.wandb td:nth-child(1) { padding: 0 10px; text-align: left ; width: auto;} td:nth-child(2) {text-align: left ; width: 100%}\n",
       "    .wandb-row { display: flex; flex-direction: row; flex-wrap: wrap; justify-content: flex-start; width: 100% }\n",
       "    .wandb-col { display: flex; flex-direction: column; flex-basis: 100%; flex: 1; padding: 10px; }\n",
       "    </style>\n",
       "<div class=\"wandb-row\"><div class=\"wandb-col\"><h3>Run history:</h3><br/><table class=\"wandb\"><tr><td>epoch/accuracy</td><td>▁▃▂▅█</td></tr><tr><td>epoch/epoch</td><td>▁▃▅▆█</td></tr><tr><td>epoch/learning_rate</td><td>▁▁▁▁▁</td></tr><tr><td>epoch/loss</td><td>█▃▃▂▁</td></tr><tr><td>epoch/val_accuracy</td><td>▃▇█▇▁</td></tr><tr><td>epoch/val_loss</td><td>▅▁▂▄█</td></tr></table><br/></div><div class=\"wandb-col\"><h3>Run summary:</h3><br/><table class=\"wandb\"><tr><td>epoch/accuracy</td><td>0.86891</td></tr><tr><td>epoch/epoch</td><td>4</td></tr><tr><td>epoch/learning_rate</td><td>0.001</td></tr><tr><td>epoch/loss</td><td>0.32004</td></tr><tr><td>epoch/val_accuracy</td><td>0.71598</td></tr><tr><td>epoch/val_loss</td><td>0.60268</td></tr></table><br/></div></div>"
      ],
      "text/plain": [
       "<IPython.core.display.HTML object>"
      ]
     },
     "metadata": {},
     "output_type": "display_data"
    },
    {
     "data": {
      "text/html": [
       " View run <strong style=\"color:#cdcd00\">usual-blaze-33</strong> at: <a href='https://wandb.ai/bgm-team/ml-en-produccion/runs/lg0yv68h' target=\"_blank\">https://wandb.ai/bgm-team/ml-en-produccion/runs/lg0yv68h</a><br/>Synced 6 W&B file(s), 0 media file(s), 27 artifact file(s) and 0 other file(s)"
      ],
      "text/plain": [
       "<IPython.core.display.HTML object>"
      ]
     },
     "metadata": {},
     "output_type": "display_data"
    },
    {
     "data": {
      "text/html": [
       "Find logs at: <code>./wandb/run-20230618_013256-lg0yv68h/logs</code>"
      ],
      "text/plain": [
       "<IPython.core.display.HTML object>"
      ]
     },
     "metadata": {},
     "output_type": "display_data"
    },
    {
     "data": {
      "text/html": [
       "Tracking run with wandb version 0.15.4"
      ],
      "text/plain": [
       "<IPython.core.display.HTML object>"
      ]
     },
     "metadata": {},
     "output_type": "display_data"
    },
    {
     "data": {
      "text/html": [
       "Run data is saved locally in <code>/mnt/batch/tasks/shared/LS_root/mounts/clusters/fb1586871/code/Users/FB158687/wandb/run-20230618_013832-i6698lsd</code>"
      ],
      "text/plain": [
       "<IPython.core.display.HTML object>"
      ]
     },
     "metadata": {},
     "output_type": "display_data"
    },
    {
     "data": {
      "text/html": [
       "Syncing run <strong><a href='https://wandb.ai/bgm-team/ml-en-produccion/runs/i6698lsd' target=\"_blank\">crimson-water-34</a></strong> to <a href='https://wandb.ai/bgm-team/ml-en-produccion' target=\"_blank\">Weights & Biases</a> (<a href='https://wandb.me/run' target=\"_blank\">docs</a>)<br/>"
      ],
      "text/plain": [
       "<IPython.core.display.HTML object>"
      ]
     },
     "metadata": {},
     "output_type": "display_data"
    },
    {
     "data": {
      "text/html": [
       " View project at <a href='https://wandb.ai/bgm-team/ml-en-produccion' target=\"_blank\">https://wandb.ai/bgm-team/ml-en-produccion</a>"
      ],
      "text/plain": [
       "<IPython.core.display.HTML object>"
      ]
     },
     "metadata": {},
     "output_type": "display_data"
    },
    {
     "data": {
      "text/html": [
       " View run at <a href='https://wandb.ai/bgm-team/ml-en-produccion/runs/i6698lsd' target=\"_blank\">https://wandb.ai/bgm-team/ml-en-produccion/runs/i6698lsd</a>"
      ],
      "text/plain": [
       "<IPython.core.display.HTML object>"
      ]
     },
     "metadata": {},
     "output_type": "display_data"
    },
    {
     "name": "stdout",
     "output_type": "stream",
     "text": [
      "Epoch 1/5\n",
      "30/30 [==============================] - ETA: 0s - loss: 4.4790 - accuracy: 0.7421"
     ]
    },
    {
     "name": "stderr",
     "output_type": "stream",
     "text": [
      "WARNING:absl:Found untraced functions such as _update_step_xla, conv2d_22_layer_call_fn, conv2d_22_layer_call_and_return_conditional_losses, _jit_compiled_convolution_op, conv2d_23_layer_call_fn while saving (showing 5 of 19). These functions will not be directly callable after loading.\n"
     ]
    },
    {
     "name": "stdout",
     "output_type": "stream",
     "text": [
      "INFO:tensorflow:Assets written to: my_model_01/assets\n"
     ]
    },
    {
     "name": "stderr",
     "output_type": "stream",
     "text": [
      "INFO:tensorflow:Assets written to: my_model_01/assets\n",
      "\u001b[34m\u001b[1mwandb\u001b[0m: Adding directory to artifact (./my_model_01)... Done. 8.5s\n"
     ]
    },
    {
     "name": "stdout",
     "output_type": "stream",
     "text": [
      "30/30 [==============================] - 64s 2s/step - loss: 4.4790 - accuracy: 0.7421 - val_loss: 0.6882 - val_accuracy: 0.6479\n",
      "Epoch 2/5\n",
      "30/30 [==============================] - ETA: 0s - loss: 0.7464 - accuracy: 0.7457"
     ]
    },
    {
     "name": "stderr",
     "output_type": "stream",
     "text": [
      "WARNING:absl:Found untraced functions such as _update_step_xla, conv2d_22_layer_call_fn, conv2d_22_layer_call_and_return_conditional_losses, _jit_compiled_convolution_op, conv2d_23_layer_call_fn while saving (showing 5 of 19). These functions will not be directly callable after loading.\n"
     ]
    },
    {
     "name": "stdout",
     "output_type": "stream",
     "text": [
      "INFO:tensorflow:Assets written to: my_model_02/assets\n"
     ]
    },
    {
     "name": "stderr",
     "output_type": "stream",
     "text": [
      "INFO:tensorflow:Assets written to: my_model_02/assets\n",
      "\u001b[34m\u001b[1mwandb\u001b[0m: Adding directory to artifact (./my_model_02)... Done. 8.7s\n"
     ]
    },
    {
     "name": "stdout",
     "output_type": "stream",
     "text": [
      "30/30 [==============================] - 60s 2s/step - loss: 0.7464 - accuracy: 0.7457 - val_loss: 0.5496 - val_accuracy: 0.7633\n",
      "Epoch 3/5\n",
      "30/30 [==============================] - ETA: 0s - loss: 0.5593 - accuracy: 0.7622"
     ]
    },
    {
     "name": "stderr",
     "output_type": "stream",
     "text": [
      "WARNING:absl:Found untraced functions such as _update_step_xla, conv2d_22_layer_call_fn, conv2d_22_layer_call_and_return_conditional_losses, _jit_compiled_convolution_op, conv2d_23_layer_call_fn while saving (showing 5 of 19). These functions will not be directly callable after loading.\n"
     ]
    },
    {
     "name": "stdout",
     "output_type": "stream",
     "text": [
      "INFO:tensorflow:Assets written to: my_model_03/assets\n"
     ]
    },
    {
     "name": "stderr",
     "output_type": "stream",
     "text": [
      "INFO:tensorflow:Assets written to: my_model_03/assets\n",
      "\u001b[34m\u001b[1mwandb\u001b[0m: Adding directory to artifact (./my_model_03)... Done. 9.7s\n"
     ]
    },
    {
     "name": "stdout",
     "output_type": "stream",
     "text": [
      "30/30 [==============================] - 57s 2s/step - loss: 0.5593 - accuracy: 0.7622 - val_loss: 0.4801 - val_accuracy: 0.7426\n",
      "Epoch 4/5\n",
      "30/30 [==============================] - ETA: 0s - loss: 0.4944 - accuracy: 0.7729"
     ]
    },
    {
     "name": "stderr",
     "output_type": "stream",
     "text": [
      "WARNING:absl:Found untraced functions such as _update_step_xla, conv2d_22_layer_call_fn, conv2d_22_layer_call_and_return_conditional_losses, _jit_compiled_convolution_op, conv2d_23_layer_call_fn while saving (showing 5 of 19). These functions will not be directly callable after loading.\n"
     ]
    },
    {
     "name": "stdout",
     "output_type": "stream",
     "text": [
      "INFO:tensorflow:Assets written to: my_model_04/assets\n"
     ]
    },
    {
     "name": "stderr",
     "output_type": "stream",
     "text": [
      "INFO:tensorflow:Assets written to: my_model_04/assets\n",
      "\u001b[34m\u001b[1mwandb\u001b[0m: Adding directory to artifact (./my_model_04)... Done. 10.2s\n"
     ]
    },
    {
     "name": "stdout",
     "output_type": "stream",
     "text": [
      "30/30 [==============================] - 59s 2s/step - loss: 0.4944 - accuracy: 0.7729 - val_loss: 0.4877 - val_accuracy: 0.7663\n",
      "Epoch 5/5\n",
      "30/30 [==============================] - ETA: 0s - loss: 0.5035 - accuracy: 0.7572"
     ]
    },
    {
     "name": "stderr",
     "output_type": "stream",
     "text": [
      "WARNING:absl:Found untraced functions such as _update_step_xla, conv2d_22_layer_call_fn, conv2d_22_layer_call_and_return_conditional_losses, _jit_compiled_convolution_op, conv2d_23_layer_call_fn while saving (showing 5 of 19). These functions will not be directly callable after loading.\n"
     ]
    },
    {
     "name": "stdout",
     "output_type": "stream",
     "text": [
      "INFO:tensorflow:Assets written to: my_model_05/assets\n"
     ]
    },
    {
     "name": "stderr",
     "output_type": "stream",
     "text": [
      "INFO:tensorflow:Assets written to: my_model_05/assets\n",
      "\u001b[34m\u001b[1mwandb\u001b[0m: Adding directory to artifact (./my_model_05)... Done. 8.9s\n"
     ]
    },
    {
     "name": "stdout",
     "output_type": "stream",
     "text": [
      "30/30 [==============================] - 59s 2s/step - loss: 0.5035 - accuracy: 0.7572 - val_loss: 0.8636 - val_accuracy: 0.7012\n"
     ]
    },
    {
     "data": {
      "text/html": [
       "Waiting for W&B process to finish... <strong style=\"color:green\">(success).</strong>"
      ],
      "text/plain": [
       "<IPython.core.display.HTML object>"
      ]
     },
     "metadata": {},
     "output_type": "display_data"
    },
    {
     "data": {
      "text/html": [
       "<style>\n",
       "    table.wandb td:nth-child(1) { padding: 0 10px; text-align: left ; width: auto;} td:nth-child(2) {text-align: left ; width: 100%}\n",
       "    .wandb-row { display: flex; flex-direction: row; flex-wrap: wrap; justify-content: flex-start; width: 100% }\n",
       "    .wandb-col { display: flex; flex-direction: column; flex-basis: 100%; flex: 1; padding: 10px; }\n",
       "    </style>\n",
       "<div class=\"wandb-row\"><div class=\"wandb-col\"><h3>Run history:</h3><br/><table class=\"wandb\"><tr><td>epoch/accuracy</td><td>▁▂▆█▄</td></tr><tr><td>epoch/epoch</td><td>▁▃▅▆█</td></tr><tr><td>epoch/learning_rate</td><td>▁▁▁▁▁</td></tr><tr><td>epoch/loss</td><td>█▁▁▁▁</td></tr><tr><td>epoch/val_accuracy</td><td>▁█▇█▄</td></tr><tr><td>epoch/val_loss</td><td>▅▂▁▁█</td></tr></table><br/></div><div class=\"wandb-col\"><h3>Run summary:</h3><br/><table class=\"wandb\"><tr><td>epoch/accuracy</td><td>0.75716</td></tr><tr><td>epoch/epoch</td><td>4</td></tr><tr><td>epoch/learning_rate</td><td>0.001</td></tr><tr><td>epoch/loss</td><td>0.50351</td></tr><tr><td>epoch/val_accuracy</td><td>0.70118</td></tr><tr><td>epoch/val_loss</td><td>0.8636</td></tr></table><br/></div></div>"
      ],
      "text/plain": [
       "<IPython.core.display.HTML object>"
      ]
     },
     "metadata": {},
     "output_type": "display_data"
    },
    {
     "data": {
      "text/html": [
       " View run <strong style=\"color:#cdcd00\">crimson-water-34</strong> at: <a href='https://wandb.ai/bgm-team/ml-en-produccion/runs/i6698lsd' target=\"_blank\">https://wandb.ai/bgm-team/ml-en-produccion/runs/i6698lsd</a><br/>Synced 6 W&B file(s), 0 media file(s), 27 artifact file(s) and 0 other file(s)"
      ],
      "text/plain": [
       "<IPython.core.display.HTML object>"
      ]
     },
     "metadata": {},
     "output_type": "display_data"
    },
    {
     "data": {
      "text/html": [
       "Find logs at: <code>./wandb/run-20230618_013832-i6698lsd/logs</code>"
      ],
      "text/plain": [
       "<IPython.core.display.HTML object>"
      ]
     },
     "metadata": {},
     "output_type": "display_data"
    }
   ],
   "source": [
    "import tensorflow as tf\n",
    "from tensorflow.keras.datasets import cifar10\n",
    "from tensorflow.keras.layers.experimental import preprocessing\n",
    "from tensorflow.keras.models import Sequential\n",
    "import numpy as np\n",
    "import matplotlib.pyplot as plt\n",
    "import random\n",
    "from tensorflow.keras.preprocessing.image import ImageDataGenerator\n",
    "from wandb.keras import WandbMetricsLogger, WandbModelCheckpoint\n",
    "from tensorflow_model_optimization.sparsity import keras as sparsity\n",
    "\n",
    "model_history = []\n",
    "\n",
    "# Launch 2 experiments, trying different dropout rates\n",
    "for run in range(2):\n",
    "    \n",
    "    # Start a run, tracking hyperparameters\n",
    "    wandb.init(\n",
    "        project=\"ml-en-produccion\",\n",
    "        config={\n",
    "        \n",
    "            #\"activation_1\": \"relu\",\n",
    "            \"img_height\": 180,\n",
    "            \"img_width\": 180,\n",
    "            \"dropout\": random.uniform(0.01, 0.80),\n",
    "            \"optimizer\": \"adam\",\n",
    "            \"loss\": \"categorical_crossentropy\",\n",
    "            \"metric\": \"accuracy\",\n",
    "            \"epoch\": 5,\n",
    "            \"batch_size\": 32,\n",
    "            \"steps_per_epoch\":30,\n",
    "            \"validation_steps\":10\n",
    "        },\n",
    "    )\n",
    "    config = wandb.config\n",
    "    \n",
    "\n",
    "    # Define tu modelo\n",
    "    \n",
    "    image_input = Input(shape=(img_height, img_width, num_channels))\n",
    "    conv1 = Conv2D(64, kernel_size=(3, 3), activation='relu')(image_input)\n",
    "    pool1 = MaxPooling2D(pool_size=(2, 2))(conv1)\n",
    "    conv2 = Conv2D(128, kernel_size=(3, 3), activation='relu')(pool1)\n",
    "    pool2 = MaxPooling2D(pool_size=(2, 2))(conv2)\n",
    "    flatten = Flatten()(pool2)\n",
    "    image_features = Dense(128, activation='relu')(flatten)\n",
    "\n",
    "    # Tabular Data Processing Branch\n",
    "    tabular_input = Input(shape=(num_tabular_features,))\n",
    "    tabular_features = Dense(64, activation='relu')(tabular_input)\n",
    "\n",
    "    # Fusion Layer\n",
    "    concatenated = Concatenate()([image_features, tabular_features])\n",
    "    fusion_layer = Dense(64, activation='relu')(concatenated)\n",
    "\n",
    "    # Output layer\n",
    "    output = Dense(2, activation='softmax')(fusion_layer)\n",
    "    # Create the model\n",
    "    model = Model(inputs=[image_input, tabular_input], outputs=output)\n",
    "    # Compila y entrena el modelo\n",
    "    model.compile(optimizer=config.optimizer, loss=config.loss,  metrics=[config.metric])\n",
    "\n",
    "    # Early toppong\n",
    "    earlystopping_callback = tf.keras.callbacks.EarlyStopping(monitor='loss', patience=3)\n",
    "\n",
    "\n",
    "    # Add WandbMetricsLogger to log metrics and WandbModelCheckpoint to log model checkpoints\n",
    "    wandb_callbacks = [\n",
    "        WandbMetricsLogger(),\n",
    "        WandbModelCheckpoint(filepath=\"my_model_{epoch:02d}\"),\n",
    "    ]\n",
    "    '''\n",
    "    history = model.fit(x=[train_generator_concatenated, X_train], y=y_train, \n",
    "                        steps_per_epoch=config.steps_per_epoch,\n",
    "                        epochs=config.epoch, \n",
    "                        validation_data=([validation_generator_concatenated, X_test], y_test), \n",
    "                        validation_steps = config.validation_steps,\n",
    "                        callbacks=[wandb_callbacks,earlystopping_callback])\n",
    "    '''\n",
    "    # Definir el esquema de pruning. En este caso, comenzamos sin pruning y terminamos con el 50% de los pesos pruned. \n",
    "    # El pruning comienza en el paso 2000 y termina en el paso 4000.\n",
    "    pruning_params = {\n",
    "        'pruning_schedule': sparsity.PolynomialDecay(initial_sparsity=0.0,\n",
    "                                                    final_sparsity=0.5,\n",
    "                                                    begin_step=200,\n",
    "                                                    end_step=400)\n",
    "    }\n",
    "\n",
    "    # Envolver el modelo con las capas de pruning. Esto agregará una operación de pruning a cada capa de nuestro modelo.\n",
    "    model_for_pruning = sparsity.prune_low_magnitude(model, **pruning_params)\n",
    "\n",
    "    # Necesitamos recompilar el modelo después de agregar las capas de pruning.\n",
    "    model_for_pruning.compile(optimizer='adam', \n",
    "                            loss='categorical_crossentropy',\n",
    "                            metrics=['accuracy'])\n",
    "\n",
    "    # Entrenar el modelo con callbacks para habilitar pruning. \n",
    "    # El callback UpdatePruningStep asegurará que el estado del pruning se actualiza en cada paso de entrenamiento.\n",
    "    pruning_callbacks = [\n",
    "    sparsity.UpdatePruningStep(),\n",
    "    ]\n",
    "    history = model_for_pruning.fit(x=[train_generator_concatenated, X_train], y=y_train, \n",
    "                        steps_per_epoch=config.steps_per_epoch,\n",
    "                        epochs=config.epoch, \n",
    "                        validation_data=([validation_generator_concatenated, X_test], y_test), \n",
    "                        validation_steps = config.validation_steps,\n",
    "                        callbacks=[wandb_callbacks,earlystopping_callback, pruning_callbacks])\n",
    "\n",
    "    model_history.append(history)\n",
    "\n",
    "    wandb.finish()"
   ]
  },
  {
   "cell_type": "markdown",
   "id": "4ed15353-77d7-4c24-bb00-942703940219",
   "metadata": {
    "nteract": {
     "transient": {
      "deleting": false
     }
    }
   },
   "source": [
    "### Plot metrics"
   ]
  },
  {
   "cell_type": "code",
   "execution_count": 20,
   "id": "0ce47871-6a79-46c6-8125-b0284436738b",
   "metadata": {
    "collapsed": false,
    "gather": {
     "logged": 1687047912960
    },
    "jupyter": {
     "outputs_hidden": false
    },
    "nteract": {
     "transient": {
      "deleting": false
     }
    }
   },
   "outputs": [
    {
     "data": {
      "image/png": "[encoded data removed]",
      "text/plain": [
       "<Figure size 1200x600 with 2 Axes>"
      ]
     },
     "metadata": {},
     "output_type": "display_data"
    }
   ],
   "source": [
    "import pandas as pd\n",
    "import matplotlib.pyplot as plt\n",
    "\n",
    "def plot_history(history):\n",
    "    history_df = pd.DataFrame(history.history)\n",
    "    plt.figure(figsize=(12, 6))\n",
    "\n",
    "    plt.subplot(1, 2, 1)\n",
    "    plt.plot(history_df['accuracy'], label='Training')\n",
    "    plt.plot(history_df['val_accuracy'], label='Validation')\n",
    "    plt.title('Model Accuracy')\n",
    "    plt.xlabel('Epochs')\n",
    "    plt.ylabel('Accuracy')\n",
    "    plt.legend()\n",
    "\n",
    "    plt.subplot(1, 2, 2)\n",
    "    plt.plot(history_df['loss'], label='Training')\n",
    "    plt.plot(history_df['val_loss'], label='Validation')\n",
    "    plt.title('Model Loss')\n",
    "    plt.xlabel('Epochs')\n",
    "    plt.ylabel('Loss')\n",
    "    plt.legend()\n",
    "\n",
    "    plt.savefig('training_validation_plots.png')\n",
    "    plt.show()\n",
    "\n",
    "# Call the plotting function to display the graphs\n",
    "plot_history(history)\n",
    "\n",
    "# Save the trained model\n",
    "model.save('conv_categorical_imgtab.h5')"
   ]
  },
  {
   "cell_type": "code",
   "execution_count": 17,
   "id": "135001fd-054e-401a-9f4c-039caf0a5e20",
   "metadata": {
    "collapsed": false,
    "gather": {
     "logged": 1687028100295
    },
    "jupyter": {
     "outputs_hidden": false
    },
    "nteract": {
     "transient": {
      "deleting": false
     }
    }
   },
   "outputs": [],
   "source": [
    "# For testing, convert image to tensor and add dimension in first position\n",
    "def input_conversion (image, tabular):\n",
    "    tensor_img = tf.convert_to_tensor(image)\n",
    "    tensor_tab = tf.convert_to_tensor(tabular)\n",
    "    tensor_img = tf.expand_dims(tensor_img, 0)\n",
    "    tensor_tab = tf.expand_dims(tensor_tab, 0)\n",
    "    return tensor_img,tensor_tab\n",
    "\n",
    "tensor_img, tensor_tab = input_conversion (validation_generator_concatenated[2], X_test[2])\n"
   ]
  },
  {
   "cell_type": "code",
   "execution_count": 19,
   "id": "6c62d8bc-9073-4c0c-a404-79521a3dbf85",
   "metadata": {
    "collapsed": false,
    "gather": {
     "logged": 1687028103927
    },
    "jupyter": {
     "outputs_hidden": false
    },
    "nteract": {
     "transient": {
      "deleting": false
     }
    }
   },
   "outputs": [
    {
     "ename": "ValueError",
     "evalue": "in user code:\n\n    File \"/anaconda/envs/azureml_py38_PT_TF/lib/python3.8/site-packages/keras/engine/training.py\", line 2169, in predict_function  *\n        return step_function(self, iterator)\n    File \"/anaconda/envs/azureml_py38_PT_TF/lib/python3.8/site-packages/keras/engine/training.py\", line 2155, in step_function  **\n        outputs = model.distribute_strategy.run(run_step, args=(data,))\n    File \"/anaconda/envs/azureml_py38_PT_TF/lib/python3.8/site-packages/keras/engine/training.py\", line 2143, in run_step  **\n        outputs = model.predict_step(data)\n    File \"/anaconda/envs/azureml_py38_PT_TF/lib/python3.8/site-packages/keras/engine/training.py\", line 2111, in predict_step\n        return self(x, training=False)\n    File \"/anaconda/envs/azureml_py38_PT_TF/lib/python3.8/site-packages/keras/utils/traceback_utils.py\", line 70, in error_handler\n        raise e.with_traceback(filtered_tb) from None\n    File \"/anaconda/envs/azureml_py38_PT_TF/lib/python3.8/site-packages/keras/engine/input_spec.py\", line 219, in assert_input_compatibility\n        raise ValueError(\n\n    ValueError: Layer \"model\" expects 2 input(s), but it received 1 input tensors. Inputs received: [<tf.Tensor 'IteratorGetNext:0' shape=(None, 180, 180, 3) dtype=float32>]\n",
     "output_type": "error",
     "traceback": [
      "\u001b[0;31m---------------------------------------------------------------------------\u001b[0m",
      "\u001b[0;31mValueError\u001b[0m                                Traceback (most recent call last)",
      "Cell \u001b[0;32mIn[19], line 2\u001b[0m\n\u001b[1;32m      1\u001b[0m \u001b[38;5;66;03m# Make a simple prediction\u001b[39;00m\n\u001b[0;32m----> 2\u001b[0m prediction \u001b[38;5;241m=\u001b[39m \u001b[43mmodel\u001b[49m\u001b[38;5;241;43m.\u001b[39;49m\u001b[43mpredict\u001b[49m\u001b[43m(\u001b[49m\u001b[43mtensor_img\u001b[49m\u001b[43m)\u001b[49m\n\u001b[1;32m      3\u001b[0m \u001b[38;5;28mprint\u001b[39m (prediction)\n",
      "File \u001b[0;32m/anaconda/envs/azureml_py38_PT_TF/lib/python3.8/site-packages/keras/utils/traceback_utils.py:70\u001b[0m, in \u001b[0;36mfilter_traceback.<locals>.error_handler\u001b[0;34m(*args, **kwargs)\u001b[0m\n\u001b[1;32m     67\u001b[0m     filtered_tb \u001b[38;5;241m=\u001b[39m _process_traceback_frames(e\u001b[38;5;241m.\u001b[39m__traceback__)\n\u001b[1;32m     68\u001b[0m     \u001b[38;5;66;03m# To get the full stack trace, call:\u001b[39;00m\n\u001b[1;32m     69\u001b[0m     \u001b[38;5;66;03m# `tf.debugging.disable_traceback_filtering()`\u001b[39;00m\n\u001b[0;32m---> 70\u001b[0m     \u001b[38;5;28;01mraise\u001b[39;00m e\u001b[38;5;241m.\u001b[39mwith_traceback(filtered_tb) \u001b[38;5;28;01mfrom\u001b[39;00m \u001b[38;5;28mNone\u001b[39m\n\u001b[1;32m     71\u001b[0m \u001b[38;5;28;01mfinally\u001b[39;00m:\n\u001b[1;32m     72\u001b[0m     \u001b[38;5;28;01mdel\u001b[39;00m filtered_tb\n",
      "File \u001b[0;32m/tmp/__autograph_generated_filear3ywu44.py:15\u001b[0m, in \u001b[0;36mouter_factory.<locals>.inner_factory.<locals>.tf__predict_function\u001b[0;34m(iterator)\u001b[0m\n\u001b[1;32m     13\u001b[0m \u001b[38;5;28;01mtry\u001b[39;00m:\n\u001b[1;32m     14\u001b[0m     do_return \u001b[38;5;241m=\u001b[39m \u001b[38;5;28;01mTrue\u001b[39;00m\n\u001b[0;32m---> 15\u001b[0m     retval_ \u001b[38;5;241m=\u001b[39m ag__\u001b[38;5;241m.\u001b[39mconverted_call(ag__\u001b[38;5;241m.\u001b[39mld(step_function), (ag__\u001b[38;5;241m.\u001b[39mld(\u001b[38;5;28mself\u001b[39m), ag__\u001b[38;5;241m.\u001b[39mld(iterator)), \u001b[38;5;28;01mNone\u001b[39;00m, fscope)\n\u001b[1;32m     16\u001b[0m \u001b[38;5;28;01mexcept\u001b[39;00m:\n\u001b[1;32m     17\u001b[0m     do_return \u001b[38;5;241m=\u001b[39m \u001b[38;5;28;01mFalse\u001b[39;00m\n",
      "\u001b[0;31mValueError\u001b[0m: in user code:\n\n    File \"/anaconda/envs/azureml_py38_PT_TF/lib/python3.8/site-packages/keras/engine/training.py\", line 2169, in predict_function  *\n        return step_function(self, iterator)\n    File \"/anaconda/envs/azureml_py38_PT_TF/lib/python3.8/site-packages/keras/engine/training.py\", line 2155, in step_function  **\n        outputs = model.distribute_strategy.run(run_step, args=(data,))\n    File \"/anaconda/envs/azureml_py38_PT_TF/lib/python3.8/site-packages/keras/engine/training.py\", line 2143, in run_step  **\n        outputs = model.predict_step(data)\n    File \"/anaconda/envs/azureml_py38_PT_TF/lib/python3.8/site-packages/keras/engine/training.py\", line 2111, in predict_step\n        return self(x, training=False)\n    File \"/anaconda/envs/azureml_py38_PT_TF/lib/python3.8/site-packages/keras/utils/traceback_utils.py\", line 70, in error_handler\n        raise e.with_traceback(filtered_tb) from None\n    File \"/anaconda/envs/azureml_py38_PT_TF/lib/python3.8/site-packages/keras/engine/input_spec.py\", line 219, in assert_input_compatibility\n        raise ValueError(\n\n    ValueError: Layer \"model\" expects 2 input(s), but it received 1 input tensors. Inputs received: [<tf.Tensor 'IteratorGetNext:0' shape=(None, 180, 180, 3) dtype=float32>]\n"
     ]
    }
   ],
   "source": [
    "# Make a simple prediction\n",
    "prediction = model.predict(tensor_img)\n",
    "print (prediction)"
   ]
  },
  {
   "cell_type": "markdown",
   "id": "8c5e47ca-d7f2-4da6-b281-f52c16b8b647",
   "metadata": {
    "nteract": {
     "transient": {
      "deleting": false
     }
    }
   },
   "source": [
    "### Gradio"
   ]
  },
  {
   "cell_type": "code",
   "execution_count": 1,
   "id": "641112e3-787a-41aa-af1a-805ec3a4aa67",
   "metadata": {
    "collapsed": false,
    "gather": {
     "logged": 1687028528576
    },
    "jupyter": {
     "outputs_hidden": false
    },
    "nteract": {
     "transient": {
      "deleting": false
     }
    }
   },
   "outputs": [
    {
     "name": "stderr",
     "output_type": "stream",
     "text": [
      "2023-06-18 11:46:40.451715: I tensorflow/core/platform/cpu_feature_guard.cc:182] This TensorFlow binary is optimized to use available CPU instructions in performance-critical operations.\n",
      "To enable the following instructions: AVX2 AVX512F FMA, in other operations, rebuild TensorFlow with the appropriate compiler flags.\n",
      "2023-06-18 11:46:44.805456: W tensorflow/compiler/tf2tensorrt/utils/py_utils.cc:38] TF-TRT Warning: Could not find TensorRT\n",
      "2023-06-18 11:46:53.196200: E tensorflow/compiler/xla/stream_executor/cuda/cuda_driver.cc:266] failed call to cuInit: CUDA_ERROR_NO_DEVICE: no CUDA-capable device is detected\n"
     ]
    }
   ],
   "source": [
    "import numpy as np\n",
    "\n",
    "# load and evaluate a saved model\n",
    "from numpy import loadtxt\n",
    "from tensorflow.keras.models import load_model\n",
    "\n",
    "# load model\n",
    "model = load_model('conv_categorical.h5')\n",
    "\n",
    "def classify_image(image, rooms, meters):\n",
    "    image = np.expand_dims(image, axis=0)\n",
    "    tabular = np.expand_dims([rooms,meters], axis=0).astype(float)\n",
    "    print(image.shape)\n",
    "    print(tabular.shape)\n",
    "    prediction = model.predict([image,tabular])\n",
    "\n",
    "    # Obtiene las etiquetas de las clases\n",
    "    class_labels = ['HOUSE','APARTMENT']\n",
    "    # Devuelve un diccionario con las etiquetas de las clases y sus probabilidades correspondientes\n",
    "    return {class_labels[i]: float(prediction[0][i]) for i in range(2)}\n",
    "    #return prediction[0]"
   ]
  },
  {
   "cell_type": "code",
   "execution_count": 4,
   "id": "25431ac0-13bf-4b09-8965-f11823412a33",
   "metadata": {
    "collapsed": false,
    "gather": {
     "logged": 1687030432627
    },
    "jupyter": {
     "outputs_hidden": false
    },
    "nteract": {
     "transient": {
      "deleting": false
     }
    }
   },
   "outputs": [
    {
     "name": "stderr",
     "output_type": "stream",
     "text": [
      "/anaconda/envs/azureml_py38_PT_TF/lib/python3.8/site-packages/gradio/inputs.py:259: UserWarning: Usage of gradio.inputs is deprecated, and will not be supported in the future, please import your component from gradio.components\n",
      "  warnings.warn(\n",
      "/anaconda/envs/azureml_py38_PT_TF/lib/python3.8/site-packages/gradio/inputs.py:262: UserWarning: `optional` parameter is deprecated, and it has no effect\n",
      "  super().__init__(\n",
      "/anaconda/envs/azureml_py38_PT_TF/lib/python3.8/site-packages/gradio/inputs.py:89: UserWarning: Usage of gradio.inputs is deprecated, and will not be supported in the future, please import your component from gradio.components\n",
      "  warnings.warn(\n",
      "/anaconda/envs/azureml_py38_PT_TF/lib/python3.8/site-packages/gradio/inputs.py:93: UserWarning: `optional` parameter is deprecated, and it has no effect\n",
      "  super().__init__(\n",
      "/anaconda/envs/azureml_py38_PT_TF/lib/python3.8/site-packages/gradio/outputs.py:197: UserWarning: Usage of gradio.outputs is deprecated, and will not be supported in the future, please import your components from gradio.components\n",
      "  warnings.warn(\n",
      "/anaconda/envs/azureml_py38_PT_TF/lib/python3.8/site-packages/gradio/outputs.py:200: UserWarning: The 'type' parameter has been deprecated. Use the Number component instead.\n",
      "  super().__init__(num_top_classes=num_top_classes, type=type, label=label)\n"
     ]
    },
    {
     "name": "stdout",
     "output_type": "stream",
     "text": [
      "Running on local URL:  http://127.0.0.1:7860\n",
      "Running on public URL: https://e1cdcd89300f0447d3.gradio.live\n",
      "\n",
      "This share link expires in 72 hours. For free permanent hosting and GPU upgrades, run `gradio deploy` from Terminal to deploy to Spaces (https://huggingface.co/spaces)\n"
     ]
    },
    {
     "data": {
      "text/html": [
       "<div><iframe src=\"https://e1cdcd89300f0447d3.gradio.live\" width=\"100%\" height=\"500\" allow=\"autoplay; camera; microphone; clipboard-read; clipboard-write;\" frameborder=\"0\" allowfullscreen></iframe></div>"
      ],
      "text/plain": [
       "<IPython.core.display.HTML object>"
      ]
     },
     "metadata": {},
     "output_type": "display_data"
    },
    {
     "name": "stdout",
     "output_type": "stream",
     "text": [
      "(1, 180, 180, 3)\n",
      "(1, 2)\n",
      "1/1 [==============================] - 1s 904ms/step\n",
      "Keyboard interruption in main thread... closing server.\n",
      "Killing tunnel 127.0.0.1:7860 <> https://e1cdcd89300f0447d3.gradio.live\n"
     ]
    },
    {
     "data": {
      "text/plain": []
     },
     "execution_count": 4,
     "metadata": {},
     "output_type": "execute_result"
    }
   ],
   "source": [
    "import gradio as gr\n",
    "\n",
    "iface = gr.Interface(\n",
    "    fn=classify_image,  # la función que hace la clasificación\n",
    "    inputs=[gr.inputs.Image(shape=(img_height, img_width)), gr.inputs.Slider(0,5,label=\"Dormitorios\", step=1), gr.inputs.Slider(0,5000,label=\"M2\")],#,\"text\", \"text\"],#, gr.inputs.Slider(0,5,label=\"Dormitorios\"), gr.inputs.Slider(0,5000,label=\"M2\")],  # el tipo de entrada que espera tu modelo\n",
    "    outputs=gr.outputs.Label(num_top_classes=2),  # el tipo de salida que produce tu modelo\n",
    ")\n",
    "iface.launch(share=True, debug=True)"
   ]
  },
  {
   "cell_type": "code",
   "execution_count": null,
   "id": "f68896cb-826d-4036-9cf2-2564bc1b1e00",
   "metadata": {},
   "outputs": [],
   "source": []
  }
 ],
 "metadata": {
  "kernel_info": {
   "name": "python38-azureml-pt-tf"
  },
  "kernelspec": {
   "display_name": "Python 3.8 - Pytorch and Tensorflow",
   "language": "python",
   "name": "python38-azureml-pt-tf"
  },
  "language_info": {
   "codemirror_mode": {
    "name": "ipython",
    "version": 3
   },
   "file_extension": ".py",
   "mimetype": "text/x-python",
   "name": "python",
   "nbconvert_exporter": "python",
   "pygments_lexer": "ipython3",
   "version": "3.8.5"
  },
  "microsoft": {
   "host": {
    "AzureML": {
     "notebookHasBeenCompleted": true
    }
   },
   "ms_spell_check": {
    "ms_spell_check_language": "en"
   }
  },
  "nteract": {
   "version": "nteract-front-end@1.0.0"
  }
 },
 "nbformat": 4,
 "nbformat_minor": 5
}
